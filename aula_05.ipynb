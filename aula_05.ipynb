{
  "nbformat": 4,
  "nbformat_minor": 0,
  "metadata": {
    "colab": {
      "provenance": [],
      "authorship_tag": "ABX9TyPk8NbcRUeGvqW9toN7+LLw",
      "include_colab_link": true
    },
    "kernelspec": {
      "name": "python3",
      "display_name": "Python 3"
    },
    "language_info": {
      "name": "python"
    }
  },
  "cells": [
    {
      "cell_type": "markdown",
      "metadata": {
        "id": "view-in-github",
        "colab_type": "text"
      },
      "source": [
        "<a href=\"https://colab.research.google.com/github/DeboraMendes/alura-imersao-ia-aula-05/blob/main/%5BImers%C3%A3o_IA_%7C_Alura_%2B_Google%5D_Aula_05.ipynb\" target=\"_parent\"><img src=\"https://colab.research.google.com/assets/colab-badge.svg\" alt=\"Open In Colab\"/></a>"
      ]
    },
    {
      "cell_type": "code",
      "execution_count": 271,
      "metadata": {
        "id": "fT2gz8D7HEFa"
      },
      "outputs": [],
      "source": [
        "#Instalando o SDK do Google\n",
        "!pip install -q -U google-generativeai"
      ]
    },
    {
      "cell_type": "code",
      "source": [
        "# Importando bliblioteca para cálculos\n",
        "import numpy as np\n",
        "\n",
        "# Importando bliblioteca para manipular tabelas\n",
        "import pandas as pd\n",
        "\n",
        "# Importando bliblioteca para interagir com a IA Generativa do Google\n",
        "import google.generativeai as genai"
      ],
      "metadata": {
        "id": "XgoRfW5tHmJK"
      },
      "execution_count": 272,
      "outputs": []
    },
    {
      "cell_type": "code",
      "source": [
        "#Configurando conexão com o Google\n",
        "from google.colab import userdata\n",
        "api_key = userdata.get('SECRET_KEY')\n",
        "genai.configure(api_key=api_key)"
      ],
      "metadata": {
        "id": "hze5DM8aHnOg"
      },
      "execution_count": 273,
      "outputs": []
    },
    {
      "cell_type": "code",
      "source": [
        "#Consultando os modelos disponíveis\n",
        "for m in genai.list_models():\n",
        "  if 'embedContent' in m.supported_generation_methods:\n",
        "    print(m.name)"
      ],
      "metadata": {
        "colab": {
          "base_uri": "https://localhost:8080/",
          "height": 52
        },
        "id": "JJslO4ECJyRA",
        "outputId": "87db5b81-8de7-4fc9-a76d-0995da40af64"
      },
      "execution_count": 274,
      "outputs": [
        {
          "output_type": "stream",
          "name": "stdout",
          "text": [
            "models/embedding-001\n",
            "models/text-embedding-004\n"
          ]
        }
      ]
    },
    {
      "cell_type": "code",
      "source": [
        "#Configurando o modelo\n",
        "model_embed_content='models/embedding-001'"
      ],
      "metadata": {
        "id": "HViOn43kdmnE"
      },
      "execution_count": 275,
      "outputs": []
    },
    {
      "cell_type": "code",
      "source": [
        "#Exemplo de embedding\n",
        "title = \"A próxima geração de IA para desenvolvedores e Google Workspace\"\n",
        "sample_text = (\"Título: A próxima geração de IA para desenvolvedores e o Google Workspace\"\n",
        "    \"\\n\"\n",
        "    \"Artigo completo:\\n\"\n",
        "    \"\\n\"\n",
        "    \"API Gemini e Google AI Studio: uma maneira acessível de explorar e criar protótipos com aplicativos generativos de IA\")\n",
        "\n",
        "embedding = genai.embed_content(model=model_embed_content,\n",
        "                                content=sample_text,\n",
        "                                task_type=\"RETRIEVAL_DOCUMENT\",\n",
        "                                title=title)\n",
        "print(embedding)"
      ],
      "metadata": {
        "colab": {
          "base_uri": "https://localhost:8080/",
          "height": 54
        },
        "id": "1lZC53YrdvpZ",
        "outputId": "4d3ceb74-ada4-4761-824d-5cdb6e6d1519"
      },
      "execution_count": 276,
      "outputs": [
        {
          "output_type": "stream",
          "name": "stdout",
          "text": [
            "{'embedding': [0.050836373, -0.034992293, -0.019792618, 0.02192551, 0.07084918, 0.0004681457, -0.029983532, -0.01561351, 0.06383967, 0.0616542, 0.016612029, 0.013040159, -0.040813964, -0.021369282, -0.00018823601, -0.02064322, 0.019605568, -0.012745684, -0.03645661, -0.008424589, 0.013480754, 0.010584699, -0.030966787, -0.07129745, -0.028632447, 0.02199451, 0.013686478, -0.03645113, -0.034344286, 0.02733872, -0.048411973, 0.057816878, -0.034073714, 0.017675782, -0.038120367, -0.035320535, -0.025784824, -0.043889415, 0.00027410014, 0.00080879155, 0.0032252348, -0.0840168, -0.01219539, 0.028109694, -0.005756998, -0.026013914, 0.03972189, 0.043911688, 0.015128174, -0.05466117, 0.020557255, 0.027173985, 0.07398505, -0.036399316, -0.002978596, -0.007085387, 0.019047225, -0.031917505, 0.020203277, -0.00427889, 0.002510881, 0.022401467, -0.018738385, 0.059404857, 0.02022057, -0.06095853, -0.0390529, -0.0033471778, 0.0117706815, 0.04742471, 0.010777818, 0.008328867, 0.05159335, -0.07179644, -0.03931966, -0.10386875, -0.04130271, 0.041151967, -0.010551597, 0.015720658, 0.01021989, -0.07515678, -0.058507387, -0.035072226, -0.01740124, 0.032243695, -0.063269734, -0.01984415, 0.041286822, -0.0008606982, 0.014399731, -0.04391775, 0.056174316, -0.051043488, -0.0044503612, 0.087859385, -0.067704186, -0.018366404, -0.009391012, -0.078780405, -0.017196484, -0.0024576515, -0.05799878, 0.0033621604, 0.023282988, 0.03720726, -0.020336542, 0.017314484, -0.045957543, 0.11706321, -0.035890564, -0.009691548, 0.023121983, -0.057731833, 0.04682291, -0.022747137, 0.022907648, 0.040554535, 0.0017963927, 0.047019403, 0.053366456, 0.03290803, 0.040441897, -0.0018000291, -0.0392489, 0.022877427, -0.03920453, 0.014837279, 0.06258143, 0.0360893, 0.011431693, -0.055787574, -0.028885406, 0.047682684, 0.043603398, 0.052853275, 0.021493347, -0.020813983, 0.04235827, 0.070473485, 0.003518722, 0.03484412, -0.0071137743, -0.01734203, -0.006937388, 0.0863705, -0.07228799, -0.013952615, 0.030954283, -0.005282438, -0.04119163, 0.006749327, -0.07612347, 0.05681354, 0.029969502, 0.014651188, -0.02754271, 0.06566541, 0.021963114, 0.0138178235, 0.038464855, -0.0046208063, 0.0026156746, 0.002998626, -0.022023268, -0.025429532, -0.010772354, 0.010797819, 0.020083888, 0.043768797, -0.0010391762, 0.009239048, -0.033961136, -0.053390123, -0.0127141625, -0.024632389, 0.0104574, -0.007427799, -0.036715586, 0.01817638, -0.039575007, -0.06558008, 0.04019383, 0.037332095, 0.0018722612, -0.024319943, 0.041548695, -0.025247354, -0.08363655, 0.044877876, -0.004360334, -0.02974402, -0.00711855, 0.0027104921, -0.022604426, 0.03980872, 0.025595244, 0.025060125, 0.010197775, -0.017333783, 0.0069818376, 0.07102685, 0.04212685, 0.012182137, -0.0015084798, 0.045961503, 0.08183144, -0.013561722, -0.037092526, 0.032706447, -0.0412753, 0.003733268, 0.01802686, 0.039564658, 0.029025944, -0.031103201, -0.0047385623, 0.0010219374, -0.0258291, -0.040668543, -0.0220575, -0.0056271185, -0.031201817, -0.02237024, -0.02158618, 0.070337445, -0.06366049, 0.061350796, 0.045887724, -0.065224096, 0.020633588, 0.06661199, 0.059747092, -0.0028784773, 0.043923765, 0.011703808, 0.009137685, 0.014721909, 0.025330335, 0.048171237, -0.026337115, 0.05836436, 0.041861072, 0.037502993, -0.051368956, 0.01240183, 0.0038836603, 0.051020313, 0.0027252887, 0.033311423, -0.0039285035, -0.052552555, -0.04315466, 0.0602519, -0.030177588, -0.0097016785, -0.072333194, -0.069903426, 0.060164556, 0.0019949405, 0.075981624, -0.0483794, 0.015073488, -0.007197102, 0.0018581141, -0.057953704, 0.015904406, 0.03946674, -0.035213362, 0.04619691, -0.019775523, -0.056398496, 0.053946923, 0.06548829, 0.005669464, 0.030428642, 0.007865434, 0.040345214, 0.05850323, -0.086315505, 0.011044731, 0.038376056, 0.010112385, -0.064101145, -0.0548038, -0.0011869565, -0.016668174, -0.05743518, -0.007005134, -0.058690894, -0.07291427, 0.0386351, -0.008144655, 0.027212782, -0.055428647, 0.004984768, -0.032957744, 0.036426794, 0.045615748, -0.023010608, -0.019965464, -0.07372857, -0.027284501, -0.07725898, -0.011427019, -0.03242906, -0.011091687, -0.058126952, 0.053436324, 0.04095388, 0.011168461, -0.03706553, -0.0065806457, 0.01920557, 0.081961006, 0.047237545, -0.041344926, -0.00081510714, -0.006752128, 0.061071847, 0.0018889911, 0.0069527207, -0.008121572, -0.00030604735, -0.025056554, 0.049276333, -0.029867843, -0.00010677658, -0.009391595, 0.015279964, -0.015317415, 3.656845e-05, -0.015464372, 0.030779447, 0.06414771, 0.0024819341, -0.061579973, 0.01523427, -0.007184246, -0.04664559, -0.010083681, -0.010004417, -0.0015850312, -0.03836277, 0.029745035, 0.017246088, -0.10103151, -0.0147588095, 0.065707654, 0.011852029, 0.008484724, 0.05641327, -0.022294207, -0.029836992, -0.0038419785, -0.014460964, 0.030632278, 0.02384832, 0.068176925, -0.0270357, -0.0023494898, 0.04522342, -0.012023109, 0.012359244, 0.0077476646, 0.055925675, 0.00893276, -0.0010863688, -0.0012799128, 0.021584759, 0.011521458, -0.038558032, 0.016594626, -0.01456369, 0.015527552, -0.00182526, -0.02567511, -0.06293558, -0.009901696, 0.02866304, -0.022318397, -0.060785513, 0.043552727, 0.05513434, -0.012958875, 0.009957853, 0.036229715, 0.05542526, 0.0062424997, 0.046739124, 0.025973655, 0.014532361, 0.09309596, 0.023579767, 0.024888102, 0.014254696, -0.009232775, -0.0367799, 0.02746735, -0.01876034, -0.011448012, -0.042343896, -0.018214036, -0.01909321, -0.023453677, -0.00011389495, -0.043312587, -0.027479028, -0.052395307, -0.047327034, 0.020253826, 0.0027671359, 0.050369702, -0.0620037, -0.0566068, -0.013525219, 0.02835592, -0.011770311, -0.012094755, -0.017032197, -0.017499145, 0.01648159, 0.029109772, -0.03708241, -0.057372063, 0.004869464, 0.00863167, -0.053028736, 0.012529203, 0.026539028, 0.014578277, 0.017284391, 0.017828152, 0.0027754644, -0.025898106, -0.034226164, -0.0015560163, -0.0054452326, -0.011740794, 0.01793626, 0.03392294, -0.020077044, -0.007053899, 0.0005732169, -0.06336663, -0.058546726, -0.0027140863, 0.0103101265, 0.042548455, -0.051966198, 0.015280208, -0.047243573, -0.03645024, -0.037744522, -0.026962714, 0.014538247, 0.02604011, 0.015378817, 0.0012679863, 0.0117785735, 0.015211594, -0.03090174, -0.01665476, -0.012813905, 0.047519006, 0.00014811702, -0.0050249435, -0.0029770362, 0.01895084, 0.027097221, 0.022840746, -0.083435945, 0.03591085, -0.01725368, 0.02234434, 0.01816045, -0.04989418, 0.037031192, -0.028892223, 0.01410117, -0.027007183, 0.019294318, 0.020213747, -0.016437529, -0.00995029, -0.04043286, 0.017089033, -0.012447216, 0.012248561, 0.014566783, 0.027533827, 0.034532186, -0.04681515, -0.045343287, -0.018373234, -0.014708644, -0.040434502, 0.0063864416, 0.03661132, 0.021188065, -0.013984489, -0.029988915, -0.017797397, 0.023289707, 0.051253375, -0.033521805, 0.02525116, -0.021945551, -0.0042802026, -0.035426095, -0.019831508, -0.012785411, 0.015024859, -0.03820995, 0.07764041, -0.04131299, -0.021696817, 0.030173322, 0.032701842, -0.0065561063, 0.0783708, 0.03600506, -0.058856722, 0.015770992, 0.009672383, -0.050107352, 0.012264214, -0.006891992, 0.00044960412, 0.024133211, -0.0153184915, 0.067107774, -0.009846277, -0.044453055, 0.014636594, 0.0047300425, 0.051003974, -0.010793958, -0.03328391, 0.02266841, -0.0026206123, -0.0686003, 0.03140401, 0.018995225, -0.04122799, -0.011508799, -0.0032685227, -0.059453823, 0.017618077, -0.015967796, -0.0071000564, -0.00092862785, -0.0027922834, 0.024021758, 0.032952614, -0.04454294, 0.0047116796, -0.02092238, 0.039350346, 0.021482587, 0.023729242, -0.00809759, -0.014541048, 0.0005912428, 0.06094254, 0.0006800376, -0.01824731, -0.012374241, 0.033423062, -0.024772367, 0.0048003574, 0.008889254, 0.014912369, 0.008524205, 0.044091627, -0.011527657, -0.034153763, -0.021036837, -0.04272412, 0.036740236, 0.03495362, -0.0048257858, -0.029373648, 0.043960176, -0.037501823, -0.002655524, 0.0036134282, 0.04293139, 0.049790952, 0.031999968, -0.05409622, 0.06756269, 0.0031216966, 0.029930938, 0.03039731, -0.008174249, 0.024445241, -0.005137171, 0.029916212, 0.05328849, -0.028260183, -0.036125496, 0.054048933, -0.011108843, -0.012911321, 0.0058322283, -0.0087984735, 0.008397898, 0.008740209, -0.00015948116, 0.0064989473, -0.093684144, 0.01773833, -0.041338805, -0.043836426, -0.022475809, 0.030154275, 0.024637807, -0.01902618, -0.01324376, 0.043299414, 0.031838223, 0.018335354, 0.04414698, 0.018899852, 0.022687696, -0.060220636, 0.016327243, 0.050792664, 0.05539503, 0.05929821, 0.058692724, 0.013526385, -0.03600904, -0.053724617, -0.0040266127, 0.016343914, 0.06351577, -0.018021017, -0.03955287, -0.049700208, -0.006165026, -0.010896625, -0.021692982, -0.03796913, 0.0058588963, -0.011965106, -0.07118724, -0.0531768, 0.0015071422, -0.0020705683, 0.0078617325, 0.009265703, 0.018742185, 0.039834093, 0.008247906, -0.066830195, -0.055223342, 0.011500532, -0.024885302, -0.059182454, 0.017058518, 0.0038896333, -0.011727018, -0.06144717, -0.037570957, -0.05749381, -0.09064444, -0.036914654, 0.03277586, -0.03719721, 0.043062627, 0.024936898, -0.018709796, 0.024037067, 0.06384069, 0.004238979, 0.0025931022, 0.004244291, -0.015143177, 0.002770985, -0.037140496, 0.00067040866, 0.0067281937, -0.030030997, 0.012926801, 0.045852486, 0.006535864, -0.009445116, -0.02674856, -0.01729139, -0.03688003, -0.004171618, -0.017210513, -0.019671055, -0.049766686, -0.03733896, -0.056914475, 0.04941875, 0.042976156, -0.008930992, -0.012697127, -0.019776829, -0.016841097, 0.0019851446, -0.016764991, -0.04293201, -0.0030960713, -0.02069178, 0.05009711, 0.06173833, -0.040660407, -0.086243644, 0.019079756, -0.03861442, 0.018092705, -0.030126603, 0.0023921588, -0.018065345, 0.043145627, -0.0002231125, -0.00937437, 0.0035053447, -0.035469066, -0.08709842, 0.024474662, -0.036250077, 0.02002747, -0.034423076, 0.004253926, 0.06888952, -0.003970234, -0.0462773, 0.0018251712, -0.00013909877, 0.006300766, -0.04220858, 0.051647566, -0.03828141, -0.07557149, -0.02793568, -0.013220483, -0.017269718, 0.057967775, 0.024866901, -0.019861305, 0.0022289087, -0.00121509, -0.017133733, -0.08070131, -0.02877749, -0.02720649, -0.009166395, 0.040069945, -0.0072383727, -0.0003414438, -0.00053786987, -0.031732794, 0.015034164, 0.011895358, -0.037398566, -0.03922606, 0.0033957954, -0.020040667, 0.0058372677, 0.09165112, -0.053117413, 0.011256551]}\n"
          ]
        }
      ]
    },
    {
      "cell_type": "code",
      "source": [
        "#Listagem de documentos que serão buscados\n",
        "DOCUMENT1 = {\n",
        "    \"title\": \"Operando o Sistema de Controle Climático\",\n",
        "    \"content\": \"Seu Googlecar possui um sistema de controle climático que permite ajustar a temperatura e o fluxo de ar no carro. Utilize os botões localizados no console central para controlar o sistema:\\n\\n* **Temperatura:** Gire o botão no sentido horário para aumentar a temperatura ou no sentido anti-horário para diminuir. \\n* **Fluxo de ar:** Gire o botão para ajustar a quantidade de ar que circula no carro.\\n* **Velocidade do ventilador:** Gire o botão no sentido horário para aumentar a velocidade do ventilador ou no sentido anti-horário para diminuir. \\n* **Modo:** Selecione o modo desejado (Frio ou Calor) para que o carro ajuste automaticamente a temperatura e o fluxo de ar para um nível confortável.\\n\\n**Modos:**\\n\\n* **Frio:** O carro soprará ar frio para dentro do carro.\\n* **Calor:** O carro soprará ar quente para dentro do carro.\"\n",
        "}\n",
        "DOCUMENT2 = {\n",
        "    \"title\": \"Tela Sensível ao Toque\",\n",
        "    \"content\": \"Seu Googlecar possui uma grande tela sensível ao toque que fornece acesso a uma variedade de recursos, incluindo navegação, entretenimento e controle de temperatura. Para usar a tela sensível ao toque, basta tocar no ícone desejado. Por exemplo, você pode tocar no \\ Ícone \\\"Navegação\\\" para obter direções até seu destino ou toque no ícone \\\"Música\\\" para reproduzir suas músicas favoritas.\"\n",
        "}\n",
        "DOCUMENT3 = {\n",
        "    \"title\": \"Mudando de Marcha\",\n",
        "    \"content\": \"Seu Googlecar possui transmissão automática. Para mudar de marcha, basta mover a alavanca de mudança para a posição desejada. \\n\\n* **Estacionar:** Esta posição é usada quando você está estacionado. As rodas estão travadas e o carro não pode se mover. \\n* **Marcha-atrás:** Esta posição é usada para dar ré. \\n* **D (Drive):** Esta posição é usada para dirigir. \\n* **N (Neutro):** Esta posição é usada quando você está parado em um semáforo ou no trânsito. O carro não está engatado e não se moverá a menos que você pressione o pedal do acelerador. \\n* **Baixo (L):** Esta posição é usada para dirigir em neve ou outras condições escorregadias.\"\n",
        "}\n",
        "\n",
        "documents = [DOCUMENT1, DOCUMENT2, DOCUMENT3]"
      ],
      "metadata": {
        "id": "c3wYMC_bbWrt"
      },
      "execution_count": 277,
      "outputs": []
    },
    {
      "cell_type": "code",
      "source": [
        "#Criando dataframe\n",
        "df = pd.DataFrame(documents)\n",
        "df.columns = ['Title', 'Text']\n",
        "df"
      ],
      "metadata": {
        "colab": {
          "base_uri": "https://localhost:8080/",
          "height": 143
        },
        "id": "Oss-Y43ncx9h",
        "outputId": "2f0575d4-351c-47c5-9d89-8899a54e8c41"
      },
      "execution_count": 278,
      "outputs": [
        {
          "output_type": "execute_result",
          "data": {
            "text/plain": [
              "                                      Title  \\\n",
              "0  Operando o Sistema de Controle Climático   \n",
              "1                    Tela Sensível ao Toque   \n",
              "2                         Mudando de Marcha   \n",
              "\n",
              "                                                Text  \n",
              "0  Seu Googlecar possui um sistema de controle cl...  \n",
              "1  Seu Googlecar possui uma grande tela sensível ...  \n",
              "2  Seu Googlecar possui transmissão automática. P...  "
            ],
            "text/html": [
              "\n",
              "  <div id=\"df-966ee86f-2dc7-40cd-952f-e02e729f00bb\" class=\"colab-df-container\">\n",
              "    <div>\n",
              "<style scoped>\n",
              "    .dataframe tbody tr th:only-of-type {\n",
              "        vertical-align: middle;\n",
              "    }\n",
              "\n",
              "    .dataframe tbody tr th {\n",
              "        vertical-align: top;\n",
              "    }\n",
              "\n",
              "    .dataframe thead th {\n",
              "        text-align: right;\n",
              "    }\n",
              "</style>\n",
              "<table border=\"1\" class=\"dataframe\">\n",
              "  <thead>\n",
              "    <tr style=\"text-align: right;\">\n",
              "      <th></th>\n",
              "      <th>Title</th>\n",
              "      <th>Text</th>\n",
              "    </tr>\n",
              "  </thead>\n",
              "  <tbody>\n",
              "    <tr>\n",
              "      <th>0</th>\n",
              "      <td>Operando o Sistema de Controle Climático</td>\n",
              "      <td>Seu Googlecar possui um sistema de controle cl...</td>\n",
              "    </tr>\n",
              "    <tr>\n",
              "      <th>1</th>\n",
              "      <td>Tela Sensível ao Toque</td>\n",
              "      <td>Seu Googlecar possui uma grande tela sensível ...</td>\n",
              "    </tr>\n",
              "    <tr>\n",
              "      <th>2</th>\n",
              "      <td>Mudando de Marcha</td>\n",
              "      <td>Seu Googlecar possui transmissão automática. P...</td>\n",
              "    </tr>\n",
              "  </tbody>\n",
              "</table>\n",
              "</div>\n",
              "    <div class=\"colab-df-buttons\">\n",
              "\n",
              "  <div class=\"colab-df-container\">\n",
              "    <button class=\"colab-df-convert\" onclick=\"convertToInteractive('df-966ee86f-2dc7-40cd-952f-e02e729f00bb')\"\n",
              "            title=\"Convert this dataframe to an interactive table.\"\n",
              "            style=\"display:none;\">\n",
              "\n",
              "  <svg xmlns=\"http://www.w3.org/2000/svg\" height=\"24px\" viewBox=\"0 -960 960 960\">\n",
              "    <path d=\"M120-120v-720h720v720H120Zm60-500h600v-160H180v160Zm220 220h160v-160H400v160Zm0 220h160v-160H400v160ZM180-400h160v-160H180v160Zm440 0h160v-160H620v160ZM180-180h160v-160H180v160Zm440 0h160v-160H620v160Z\"/>\n",
              "  </svg>\n",
              "    </button>\n",
              "\n",
              "  <style>\n",
              "    .colab-df-container {\n",
              "      display:flex;\n",
              "      gap: 12px;\n",
              "    }\n",
              "\n",
              "    .colab-df-convert {\n",
              "      background-color: #E8F0FE;\n",
              "      border: none;\n",
              "      border-radius: 50%;\n",
              "      cursor: pointer;\n",
              "      display: none;\n",
              "      fill: #1967D2;\n",
              "      height: 32px;\n",
              "      padding: 0 0 0 0;\n",
              "      width: 32px;\n",
              "    }\n",
              "\n",
              "    .colab-df-convert:hover {\n",
              "      background-color: #E2EBFA;\n",
              "      box-shadow: 0px 1px 2px rgba(60, 64, 67, 0.3), 0px 1px 3px 1px rgba(60, 64, 67, 0.15);\n",
              "      fill: #174EA6;\n",
              "    }\n",
              "\n",
              "    .colab-df-buttons div {\n",
              "      margin-bottom: 4px;\n",
              "    }\n",
              "\n",
              "    [theme=dark] .colab-df-convert {\n",
              "      background-color: #3B4455;\n",
              "      fill: #D2E3FC;\n",
              "    }\n",
              "\n",
              "    [theme=dark] .colab-df-convert:hover {\n",
              "      background-color: #434B5C;\n",
              "      box-shadow: 0px 1px 3px 1px rgba(0, 0, 0, 0.15);\n",
              "      filter: drop-shadow(0px 1px 2px rgba(0, 0, 0, 0.3));\n",
              "      fill: #FFFFFF;\n",
              "    }\n",
              "  </style>\n",
              "\n",
              "    <script>\n",
              "      const buttonEl =\n",
              "        document.querySelector('#df-966ee86f-2dc7-40cd-952f-e02e729f00bb button.colab-df-convert');\n",
              "      buttonEl.style.display =\n",
              "        google.colab.kernel.accessAllowed ? 'block' : 'none';\n",
              "\n",
              "      async function convertToInteractive(key) {\n",
              "        const element = document.querySelector('#df-966ee86f-2dc7-40cd-952f-e02e729f00bb');\n",
              "        const dataTable =\n",
              "          await google.colab.kernel.invokeFunction('convertToInteractive',\n",
              "                                                    [key], {});\n",
              "        if (!dataTable) return;\n",
              "\n",
              "        const docLinkHtml = 'Like what you see? Visit the ' +\n",
              "          '<a target=\"_blank\" href=https://colab.research.google.com/notebooks/data_table.ipynb>data table notebook</a>'\n",
              "          + ' to learn more about interactive tables.';\n",
              "        element.innerHTML = '';\n",
              "        dataTable['output_type'] = 'display_data';\n",
              "        await google.colab.output.renderOutput(dataTable, element);\n",
              "        const docLink = document.createElement('div');\n",
              "        docLink.innerHTML = docLinkHtml;\n",
              "        element.appendChild(docLink);\n",
              "      }\n",
              "    </script>\n",
              "  </div>\n",
              "\n",
              "\n",
              "<div id=\"df-43e29748-4075-4781-bf57-8aae86b9a512\">\n",
              "  <button class=\"colab-df-quickchart\" onclick=\"quickchart('df-43e29748-4075-4781-bf57-8aae86b9a512')\"\n",
              "            title=\"Suggest charts\"\n",
              "            style=\"display:none;\">\n",
              "\n",
              "<svg xmlns=\"http://www.w3.org/2000/svg\" height=\"24px\"viewBox=\"0 0 24 24\"\n",
              "     width=\"24px\">\n",
              "    <g>\n",
              "        <path d=\"M19 3H5c-1.1 0-2 .9-2 2v14c0 1.1.9 2 2 2h14c1.1 0 2-.9 2-2V5c0-1.1-.9-2-2-2zM9 17H7v-7h2v7zm4 0h-2V7h2v10zm4 0h-2v-4h2v4z\"/>\n",
              "    </g>\n",
              "</svg>\n",
              "  </button>\n",
              "\n",
              "<style>\n",
              "  .colab-df-quickchart {\n",
              "      --bg-color: #E8F0FE;\n",
              "      --fill-color: #1967D2;\n",
              "      --hover-bg-color: #E2EBFA;\n",
              "      --hover-fill-color: #174EA6;\n",
              "      --disabled-fill-color: #AAA;\n",
              "      --disabled-bg-color: #DDD;\n",
              "  }\n",
              "\n",
              "  [theme=dark] .colab-df-quickchart {\n",
              "      --bg-color: #3B4455;\n",
              "      --fill-color: #D2E3FC;\n",
              "      --hover-bg-color: #434B5C;\n",
              "      --hover-fill-color: #FFFFFF;\n",
              "      --disabled-bg-color: #3B4455;\n",
              "      --disabled-fill-color: #666;\n",
              "  }\n",
              "\n",
              "  .colab-df-quickchart {\n",
              "    background-color: var(--bg-color);\n",
              "    border: none;\n",
              "    border-radius: 50%;\n",
              "    cursor: pointer;\n",
              "    display: none;\n",
              "    fill: var(--fill-color);\n",
              "    height: 32px;\n",
              "    padding: 0;\n",
              "    width: 32px;\n",
              "  }\n",
              "\n",
              "  .colab-df-quickchart:hover {\n",
              "    background-color: var(--hover-bg-color);\n",
              "    box-shadow: 0 1px 2px rgba(60, 64, 67, 0.3), 0 1px 3px 1px rgba(60, 64, 67, 0.15);\n",
              "    fill: var(--button-hover-fill-color);\n",
              "  }\n",
              "\n",
              "  .colab-df-quickchart-complete:disabled,\n",
              "  .colab-df-quickchart-complete:disabled:hover {\n",
              "    background-color: var(--disabled-bg-color);\n",
              "    fill: var(--disabled-fill-color);\n",
              "    box-shadow: none;\n",
              "  }\n",
              "\n",
              "  .colab-df-spinner {\n",
              "    border: 2px solid var(--fill-color);\n",
              "    border-color: transparent;\n",
              "    border-bottom-color: var(--fill-color);\n",
              "    animation:\n",
              "      spin 1s steps(1) infinite;\n",
              "  }\n",
              "\n",
              "  @keyframes spin {\n",
              "    0% {\n",
              "      border-color: transparent;\n",
              "      border-bottom-color: var(--fill-color);\n",
              "      border-left-color: var(--fill-color);\n",
              "    }\n",
              "    20% {\n",
              "      border-color: transparent;\n",
              "      border-left-color: var(--fill-color);\n",
              "      border-top-color: var(--fill-color);\n",
              "    }\n",
              "    30% {\n",
              "      border-color: transparent;\n",
              "      border-left-color: var(--fill-color);\n",
              "      border-top-color: var(--fill-color);\n",
              "      border-right-color: var(--fill-color);\n",
              "    }\n",
              "    40% {\n",
              "      border-color: transparent;\n",
              "      border-right-color: var(--fill-color);\n",
              "      border-top-color: var(--fill-color);\n",
              "    }\n",
              "    60% {\n",
              "      border-color: transparent;\n",
              "      border-right-color: var(--fill-color);\n",
              "    }\n",
              "    80% {\n",
              "      border-color: transparent;\n",
              "      border-right-color: var(--fill-color);\n",
              "      border-bottom-color: var(--fill-color);\n",
              "    }\n",
              "    90% {\n",
              "      border-color: transparent;\n",
              "      border-bottom-color: var(--fill-color);\n",
              "    }\n",
              "  }\n",
              "</style>\n",
              "\n",
              "  <script>\n",
              "    async function quickchart(key) {\n",
              "      const quickchartButtonEl =\n",
              "        document.querySelector('#' + key + ' button');\n",
              "      quickchartButtonEl.disabled = true;  // To prevent multiple clicks.\n",
              "      quickchartButtonEl.classList.add('colab-df-spinner');\n",
              "      try {\n",
              "        const charts = await google.colab.kernel.invokeFunction(\n",
              "            'suggestCharts', [key], {});\n",
              "      } catch (error) {\n",
              "        console.error('Error during call to suggestCharts:', error);\n",
              "      }\n",
              "      quickchartButtonEl.classList.remove('colab-df-spinner');\n",
              "      quickchartButtonEl.classList.add('colab-df-quickchart-complete');\n",
              "    }\n",
              "    (() => {\n",
              "      let quickchartButtonEl =\n",
              "        document.querySelector('#df-43e29748-4075-4781-bf57-8aae86b9a512 button');\n",
              "      quickchartButtonEl.style.display =\n",
              "        google.colab.kernel.accessAllowed ? 'block' : 'none';\n",
              "    })();\n",
              "  </script>\n",
              "</div>\n",
              "\n",
              "  <div id=\"id_7ff83934-5c4e-4fe5-bec8-f51d88f05f91\">\n",
              "    <style>\n",
              "      .colab-df-generate {\n",
              "        background-color: #E8F0FE;\n",
              "        border: none;\n",
              "        border-radius: 50%;\n",
              "        cursor: pointer;\n",
              "        display: none;\n",
              "        fill: #1967D2;\n",
              "        height: 32px;\n",
              "        padding: 0 0 0 0;\n",
              "        width: 32px;\n",
              "      }\n",
              "\n",
              "      .colab-df-generate:hover {\n",
              "        background-color: #E2EBFA;\n",
              "        box-shadow: 0px 1px 2px rgba(60, 64, 67, 0.3), 0px 1px 3px 1px rgba(60, 64, 67, 0.15);\n",
              "        fill: #174EA6;\n",
              "      }\n",
              "\n",
              "      [theme=dark] .colab-df-generate {\n",
              "        background-color: #3B4455;\n",
              "        fill: #D2E3FC;\n",
              "      }\n",
              "\n",
              "      [theme=dark] .colab-df-generate:hover {\n",
              "        background-color: #434B5C;\n",
              "        box-shadow: 0px 1px 3px 1px rgba(0, 0, 0, 0.15);\n",
              "        filter: drop-shadow(0px 1px 2px rgba(0, 0, 0, 0.3));\n",
              "        fill: #FFFFFF;\n",
              "      }\n",
              "    </style>\n",
              "    <button class=\"colab-df-generate\" onclick=\"generateWithVariable('df')\"\n",
              "            title=\"Generate code using this dataframe.\"\n",
              "            style=\"display:none;\">\n",
              "\n",
              "  <svg xmlns=\"http://www.w3.org/2000/svg\" height=\"24px\"viewBox=\"0 0 24 24\"\n",
              "       width=\"24px\">\n",
              "    <path d=\"M7,19H8.4L18.45,9,17,7.55,7,17.6ZM5,21V16.75L18.45,3.32a2,2,0,0,1,2.83,0l1.4,1.43a1.91,1.91,0,0,1,.58,1.4,1.91,1.91,0,0,1-.58,1.4L9.25,21ZM18.45,9,17,7.55Zm-12,3A5.31,5.31,0,0,0,4.9,8.1,5.31,5.31,0,0,0,1,6.5,5.31,5.31,0,0,0,4.9,4.9,5.31,5.31,0,0,0,6.5,1,5.31,5.31,0,0,0,8.1,4.9,5.31,5.31,0,0,0,12,6.5,5.46,5.46,0,0,0,6.5,12Z\"/>\n",
              "  </svg>\n",
              "    </button>\n",
              "    <script>\n",
              "      (() => {\n",
              "      const buttonEl =\n",
              "        document.querySelector('#id_7ff83934-5c4e-4fe5-bec8-f51d88f05f91 button.colab-df-generate');\n",
              "      buttonEl.style.display =\n",
              "        google.colab.kernel.accessAllowed ? 'block' : 'none';\n",
              "\n",
              "      buttonEl.onclick = () => {\n",
              "        google.colab.notebook.generateWithVariable('df');\n",
              "      }\n",
              "      })();\n",
              "    </script>\n",
              "  </div>\n",
              "\n",
              "    </div>\n",
              "  </div>\n"
            ],
            "application/vnd.google.colaboratory.intrinsic+json": {
              "type": "dataframe",
              "variable_name": "df",
              "summary": "{\n  \"name\": \"df\",\n  \"rows\": 3,\n  \"fields\": [\n    {\n      \"column\": \"Title\",\n      \"properties\": {\n        \"dtype\": \"string\",\n        \"num_unique_values\": 3,\n        \"samples\": [\n          \"Operando o Sistema de Controle Clim\\u00e1tico\",\n          \"Tela Sens\\u00edvel ao Toque\",\n          \"Mudando de Marcha\"\n        ],\n        \"semantic_type\": \"\",\n        \"description\": \"\"\n      }\n    },\n    {\n      \"column\": \"Text\",\n      \"properties\": {\n        \"dtype\": \"string\",\n        \"num_unique_values\": 3,\n        \"samples\": [\n          \"Seu Googlecar possui um sistema de controle clim\\u00e1tico que permite ajustar a temperatura e o fluxo de ar no carro. Utilize os bot\\u00f5es localizados no console central para controlar o sistema:\\n\\n* **Temperatura:** Gire o bot\\u00e3o no sentido hor\\u00e1rio para aumentar a temperatura ou no sentido anti-hor\\u00e1rio para diminuir. \\n* **Fluxo de ar:** Gire o bot\\u00e3o para ajustar a quantidade de ar que circula no carro.\\n* **Velocidade do ventilador:** Gire o bot\\u00e3o no sentido hor\\u00e1rio para aumentar a velocidade do ventilador ou no sentido anti-hor\\u00e1rio para diminuir. \\n* **Modo:** Selecione o modo desejado (Frio ou Calor) para que o carro ajuste automaticamente a temperatura e o fluxo de ar para um n\\u00edvel confort\\u00e1vel.\\n\\n**Modos:**\\n\\n* **Frio:** O carro soprar\\u00e1 ar frio para dentro do carro.\\n* **Calor:** O carro soprar\\u00e1 ar quente para dentro do carro.\",\n          \"Seu Googlecar possui uma grande tela sens\\u00edvel ao toque que fornece acesso a uma variedade de recursos, incluindo navega\\u00e7\\u00e3o, entretenimento e controle de temperatura. Para usar a tela sens\\u00edvel ao toque, basta tocar no \\u00edcone desejado. Por exemplo, voc\\u00ea pode tocar no \\\\ \\u00cdcone \\\"Navega\\u00e7\\u00e3o\\\" para obter dire\\u00e7\\u00f5es at\\u00e9 seu destino ou toque no \\u00edcone \\\"M\\u00fasica\\\" para reproduzir suas m\\u00fasicas favoritas.\",\n          \"Seu Googlecar possui transmiss\\u00e3o autom\\u00e1tica. Para mudar de marcha, basta mover a alavanca de mudan\\u00e7a para a posi\\u00e7\\u00e3o desejada. \\n\\n* **Estacionar:** Esta posi\\u00e7\\u00e3o \\u00e9 usada quando voc\\u00ea est\\u00e1 estacionado. As rodas est\\u00e3o travadas e o carro n\\u00e3o pode se mover. \\n* **Marcha-atr\\u00e1s:** Esta posi\\u00e7\\u00e3o \\u00e9 usada para dar r\\u00e9. \\n* **D (Drive):** Esta posi\\u00e7\\u00e3o \\u00e9 usada para dirigir. \\n* **N (Neutro):** Esta posi\\u00e7\\u00e3o \\u00e9 usada quando voc\\u00ea est\\u00e1 parado em um sem\\u00e1foro ou no tr\\u00e2nsito. O carro n\\u00e3o est\\u00e1 engatado e n\\u00e3o se mover\\u00e1 a menos que voc\\u00ea pressione o pedal do acelerador. \\n* **Baixo (L):** Esta posi\\u00e7\\u00e3o \\u00e9 usada para dirigir em neve ou outras condi\\u00e7\\u00f5es escorregadias.\"\n        ],\n        \"semantic_type\": \"\",\n        \"description\": \"\"\n      }\n    }\n  ]\n}"
            }
          },
          "metadata": {},
          "execution_count": 278
        }
      ]
    },
    {
      "cell_type": "code",
      "source": [
        "# Obtendo os embeddings de cada texto\n",
        "def embed_fn(title, text):\n",
        "  return genai.embed_content(model=model_embed_content,\n",
        "                             content=text,\n",
        "                             task_type=\"RETRIEVAL_DOCUMENT\",\n",
        "                             title=title)[\"embedding\"]"
      ],
      "metadata": {
        "id": "OrvRvuM8dHyF"
      },
      "execution_count": 279,
      "outputs": []
    },
    {
      "cell_type": "code",
      "source": [
        "#Adicionando uma coluna de embeddings no dataframe\n",
        "  #axis=0: Aplica a função em cada linha\n",
        "  #axis=1: Aplica a função em cada coluna\n",
        "df['Embeddings'] = df.apply(lambda row: embed_fn(row['Title'], row['Text']), axis=1)\n",
        "df"
      ],
      "metadata": {
        "colab": {
          "base_uri": "https://localhost:8080/",
          "height": 143
        },
        "id": "BdUqKu6pfGg-",
        "outputId": "29d5a397-87ec-44dd-c537-9b1cc25a388b"
      },
      "execution_count": 280,
      "outputs": [
        {
          "output_type": "execute_result",
          "data": {
            "text/plain": [
              "                                      Title  \\\n",
              "0  Operando o Sistema de Controle Climático   \n",
              "1                    Tela Sensível ao Toque   \n",
              "2                         Mudando de Marcha   \n",
              "\n",
              "                                                Text  \\\n",
              "0  Seu Googlecar possui um sistema de controle cl...   \n",
              "1  Seu Googlecar possui uma grande tela sensível ...   \n",
              "2  Seu Googlecar possui transmissão automática. P...   \n",
              "\n",
              "                                          Embeddings  \n",
              "0  [-0.022875631, -0.02592004, -0.02791922, 0.049...  \n",
              "1  [0.021571878, -0.03448584, 0.025453875, 0.0136...  \n",
              "2  [-0.008031741, -0.021085348, -0.013986716, 0.0...  "
            ],
            "text/html": [
              "\n",
              "  <div id=\"df-3e2c6e6e-3576-4e2f-81e8-ffaf3f8e6d66\" class=\"colab-df-container\">\n",
              "    <div>\n",
              "<style scoped>\n",
              "    .dataframe tbody tr th:only-of-type {\n",
              "        vertical-align: middle;\n",
              "    }\n",
              "\n",
              "    .dataframe tbody tr th {\n",
              "        vertical-align: top;\n",
              "    }\n",
              "\n",
              "    .dataframe thead th {\n",
              "        text-align: right;\n",
              "    }\n",
              "</style>\n",
              "<table border=\"1\" class=\"dataframe\">\n",
              "  <thead>\n",
              "    <tr style=\"text-align: right;\">\n",
              "      <th></th>\n",
              "      <th>Title</th>\n",
              "      <th>Text</th>\n",
              "      <th>Embeddings</th>\n",
              "    </tr>\n",
              "  </thead>\n",
              "  <tbody>\n",
              "    <tr>\n",
              "      <th>0</th>\n",
              "      <td>Operando o Sistema de Controle Climático</td>\n",
              "      <td>Seu Googlecar possui um sistema de controle cl...</td>\n",
              "      <td>[-0.022875631, -0.02592004, -0.02791922, 0.049...</td>\n",
              "    </tr>\n",
              "    <tr>\n",
              "      <th>1</th>\n",
              "      <td>Tela Sensível ao Toque</td>\n",
              "      <td>Seu Googlecar possui uma grande tela sensível ...</td>\n",
              "      <td>[0.021571878, -0.03448584, 0.025453875, 0.0136...</td>\n",
              "    </tr>\n",
              "    <tr>\n",
              "      <th>2</th>\n",
              "      <td>Mudando de Marcha</td>\n",
              "      <td>Seu Googlecar possui transmissão automática. P...</td>\n",
              "      <td>[-0.008031741, -0.021085348, -0.013986716, 0.0...</td>\n",
              "    </tr>\n",
              "  </tbody>\n",
              "</table>\n",
              "</div>\n",
              "    <div class=\"colab-df-buttons\">\n",
              "\n",
              "  <div class=\"colab-df-container\">\n",
              "    <button class=\"colab-df-convert\" onclick=\"convertToInteractive('df-3e2c6e6e-3576-4e2f-81e8-ffaf3f8e6d66')\"\n",
              "            title=\"Convert this dataframe to an interactive table.\"\n",
              "            style=\"display:none;\">\n",
              "\n",
              "  <svg xmlns=\"http://www.w3.org/2000/svg\" height=\"24px\" viewBox=\"0 -960 960 960\">\n",
              "    <path d=\"M120-120v-720h720v720H120Zm60-500h600v-160H180v160Zm220 220h160v-160H400v160Zm0 220h160v-160H400v160ZM180-400h160v-160H180v160Zm440 0h160v-160H620v160ZM180-180h160v-160H180v160Zm440 0h160v-160H620v160Z\"/>\n",
              "  </svg>\n",
              "    </button>\n",
              "\n",
              "  <style>\n",
              "    .colab-df-container {\n",
              "      display:flex;\n",
              "      gap: 12px;\n",
              "    }\n",
              "\n",
              "    .colab-df-convert {\n",
              "      background-color: #E8F0FE;\n",
              "      border: none;\n",
              "      border-radius: 50%;\n",
              "      cursor: pointer;\n",
              "      display: none;\n",
              "      fill: #1967D2;\n",
              "      height: 32px;\n",
              "      padding: 0 0 0 0;\n",
              "      width: 32px;\n",
              "    }\n",
              "\n",
              "    .colab-df-convert:hover {\n",
              "      background-color: #E2EBFA;\n",
              "      box-shadow: 0px 1px 2px rgba(60, 64, 67, 0.3), 0px 1px 3px 1px rgba(60, 64, 67, 0.15);\n",
              "      fill: #174EA6;\n",
              "    }\n",
              "\n",
              "    .colab-df-buttons div {\n",
              "      margin-bottom: 4px;\n",
              "    }\n",
              "\n",
              "    [theme=dark] .colab-df-convert {\n",
              "      background-color: #3B4455;\n",
              "      fill: #D2E3FC;\n",
              "    }\n",
              "\n",
              "    [theme=dark] .colab-df-convert:hover {\n",
              "      background-color: #434B5C;\n",
              "      box-shadow: 0px 1px 3px 1px rgba(0, 0, 0, 0.15);\n",
              "      filter: drop-shadow(0px 1px 2px rgba(0, 0, 0, 0.3));\n",
              "      fill: #FFFFFF;\n",
              "    }\n",
              "  </style>\n",
              "\n",
              "    <script>\n",
              "      const buttonEl =\n",
              "        document.querySelector('#df-3e2c6e6e-3576-4e2f-81e8-ffaf3f8e6d66 button.colab-df-convert');\n",
              "      buttonEl.style.display =\n",
              "        google.colab.kernel.accessAllowed ? 'block' : 'none';\n",
              "\n",
              "      async function convertToInteractive(key) {\n",
              "        const element = document.querySelector('#df-3e2c6e6e-3576-4e2f-81e8-ffaf3f8e6d66');\n",
              "        const dataTable =\n",
              "          await google.colab.kernel.invokeFunction('convertToInteractive',\n",
              "                                                    [key], {});\n",
              "        if (!dataTable) return;\n",
              "\n",
              "        const docLinkHtml = 'Like what you see? Visit the ' +\n",
              "          '<a target=\"_blank\" href=https://colab.research.google.com/notebooks/data_table.ipynb>data table notebook</a>'\n",
              "          + ' to learn more about interactive tables.';\n",
              "        element.innerHTML = '';\n",
              "        dataTable['output_type'] = 'display_data';\n",
              "        await google.colab.output.renderOutput(dataTable, element);\n",
              "        const docLink = document.createElement('div');\n",
              "        docLink.innerHTML = docLinkHtml;\n",
              "        element.appendChild(docLink);\n",
              "      }\n",
              "    </script>\n",
              "  </div>\n",
              "\n",
              "\n",
              "<div id=\"df-14ab7a0b-7c00-46df-9412-046bf89d2e26\">\n",
              "  <button class=\"colab-df-quickchart\" onclick=\"quickchart('df-14ab7a0b-7c00-46df-9412-046bf89d2e26')\"\n",
              "            title=\"Suggest charts\"\n",
              "            style=\"display:none;\">\n",
              "\n",
              "<svg xmlns=\"http://www.w3.org/2000/svg\" height=\"24px\"viewBox=\"0 0 24 24\"\n",
              "     width=\"24px\">\n",
              "    <g>\n",
              "        <path d=\"M19 3H5c-1.1 0-2 .9-2 2v14c0 1.1.9 2 2 2h14c1.1 0 2-.9 2-2V5c0-1.1-.9-2-2-2zM9 17H7v-7h2v7zm4 0h-2V7h2v10zm4 0h-2v-4h2v4z\"/>\n",
              "    </g>\n",
              "</svg>\n",
              "  </button>\n",
              "\n",
              "<style>\n",
              "  .colab-df-quickchart {\n",
              "      --bg-color: #E8F0FE;\n",
              "      --fill-color: #1967D2;\n",
              "      --hover-bg-color: #E2EBFA;\n",
              "      --hover-fill-color: #174EA6;\n",
              "      --disabled-fill-color: #AAA;\n",
              "      --disabled-bg-color: #DDD;\n",
              "  }\n",
              "\n",
              "  [theme=dark] .colab-df-quickchart {\n",
              "      --bg-color: #3B4455;\n",
              "      --fill-color: #D2E3FC;\n",
              "      --hover-bg-color: #434B5C;\n",
              "      --hover-fill-color: #FFFFFF;\n",
              "      --disabled-bg-color: #3B4455;\n",
              "      --disabled-fill-color: #666;\n",
              "  }\n",
              "\n",
              "  .colab-df-quickchart {\n",
              "    background-color: var(--bg-color);\n",
              "    border: none;\n",
              "    border-radius: 50%;\n",
              "    cursor: pointer;\n",
              "    display: none;\n",
              "    fill: var(--fill-color);\n",
              "    height: 32px;\n",
              "    padding: 0;\n",
              "    width: 32px;\n",
              "  }\n",
              "\n",
              "  .colab-df-quickchart:hover {\n",
              "    background-color: var(--hover-bg-color);\n",
              "    box-shadow: 0 1px 2px rgba(60, 64, 67, 0.3), 0 1px 3px 1px rgba(60, 64, 67, 0.15);\n",
              "    fill: var(--button-hover-fill-color);\n",
              "  }\n",
              "\n",
              "  .colab-df-quickchart-complete:disabled,\n",
              "  .colab-df-quickchart-complete:disabled:hover {\n",
              "    background-color: var(--disabled-bg-color);\n",
              "    fill: var(--disabled-fill-color);\n",
              "    box-shadow: none;\n",
              "  }\n",
              "\n",
              "  .colab-df-spinner {\n",
              "    border: 2px solid var(--fill-color);\n",
              "    border-color: transparent;\n",
              "    border-bottom-color: var(--fill-color);\n",
              "    animation:\n",
              "      spin 1s steps(1) infinite;\n",
              "  }\n",
              "\n",
              "  @keyframes spin {\n",
              "    0% {\n",
              "      border-color: transparent;\n",
              "      border-bottom-color: var(--fill-color);\n",
              "      border-left-color: var(--fill-color);\n",
              "    }\n",
              "    20% {\n",
              "      border-color: transparent;\n",
              "      border-left-color: var(--fill-color);\n",
              "      border-top-color: var(--fill-color);\n",
              "    }\n",
              "    30% {\n",
              "      border-color: transparent;\n",
              "      border-left-color: var(--fill-color);\n",
              "      border-top-color: var(--fill-color);\n",
              "      border-right-color: var(--fill-color);\n",
              "    }\n",
              "    40% {\n",
              "      border-color: transparent;\n",
              "      border-right-color: var(--fill-color);\n",
              "      border-top-color: var(--fill-color);\n",
              "    }\n",
              "    60% {\n",
              "      border-color: transparent;\n",
              "      border-right-color: var(--fill-color);\n",
              "    }\n",
              "    80% {\n",
              "      border-color: transparent;\n",
              "      border-right-color: var(--fill-color);\n",
              "      border-bottom-color: var(--fill-color);\n",
              "    }\n",
              "    90% {\n",
              "      border-color: transparent;\n",
              "      border-bottom-color: var(--fill-color);\n",
              "    }\n",
              "  }\n",
              "</style>\n",
              "\n",
              "  <script>\n",
              "    async function quickchart(key) {\n",
              "      const quickchartButtonEl =\n",
              "        document.querySelector('#' + key + ' button');\n",
              "      quickchartButtonEl.disabled = true;  // To prevent multiple clicks.\n",
              "      quickchartButtonEl.classList.add('colab-df-spinner');\n",
              "      try {\n",
              "        const charts = await google.colab.kernel.invokeFunction(\n",
              "            'suggestCharts', [key], {});\n",
              "      } catch (error) {\n",
              "        console.error('Error during call to suggestCharts:', error);\n",
              "      }\n",
              "      quickchartButtonEl.classList.remove('colab-df-spinner');\n",
              "      quickchartButtonEl.classList.add('colab-df-quickchart-complete');\n",
              "    }\n",
              "    (() => {\n",
              "      let quickchartButtonEl =\n",
              "        document.querySelector('#df-14ab7a0b-7c00-46df-9412-046bf89d2e26 button');\n",
              "      quickchartButtonEl.style.display =\n",
              "        google.colab.kernel.accessAllowed ? 'block' : 'none';\n",
              "    })();\n",
              "  </script>\n",
              "</div>\n",
              "\n",
              "  <div id=\"id_652e31f8-99cf-4a9e-a3c9-02557868f647\">\n",
              "    <style>\n",
              "      .colab-df-generate {\n",
              "        background-color: #E8F0FE;\n",
              "        border: none;\n",
              "        border-radius: 50%;\n",
              "        cursor: pointer;\n",
              "        display: none;\n",
              "        fill: #1967D2;\n",
              "        height: 32px;\n",
              "        padding: 0 0 0 0;\n",
              "        width: 32px;\n",
              "      }\n",
              "\n",
              "      .colab-df-generate:hover {\n",
              "        background-color: #E2EBFA;\n",
              "        box-shadow: 0px 1px 2px rgba(60, 64, 67, 0.3), 0px 1px 3px 1px rgba(60, 64, 67, 0.15);\n",
              "        fill: #174EA6;\n",
              "      }\n",
              "\n",
              "      [theme=dark] .colab-df-generate {\n",
              "        background-color: #3B4455;\n",
              "        fill: #D2E3FC;\n",
              "      }\n",
              "\n",
              "      [theme=dark] .colab-df-generate:hover {\n",
              "        background-color: #434B5C;\n",
              "        box-shadow: 0px 1px 3px 1px rgba(0, 0, 0, 0.15);\n",
              "        filter: drop-shadow(0px 1px 2px rgba(0, 0, 0, 0.3));\n",
              "        fill: #FFFFFF;\n",
              "      }\n",
              "    </style>\n",
              "    <button class=\"colab-df-generate\" onclick=\"generateWithVariable('df')\"\n",
              "            title=\"Generate code using this dataframe.\"\n",
              "            style=\"display:none;\">\n",
              "\n",
              "  <svg xmlns=\"http://www.w3.org/2000/svg\" height=\"24px\"viewBox=\"0 0 24 24\"\n",
              "       width=\"24px\">\n",
              "    <path d=\"M7,19H8.4L18.45,9,17,7.55,7,17.6ZM5,21V16.75L18.45,3.32a2,2,0,0,1,2.83,0l1.4,1.43a1.91,1.91,0,0,1,.58,1.4,1.91,1.91,0,0,1-.58,1.4L9.25,21ZM18.45,9,17,7.55Zm-12,3A5.31,5.31,0,0,0,4.9,8.1,5.31,5.31,0,0,0,1,6.5,5.31,5.31,0,0,0,4.9,4.9,5.31,5.31,0,0,0,6.5,1,5.31,5.31,0,0,0,8.1,4.9,5.31,5.31,0,0,0,12,6.5,5.46,5.46,0,0,0,6.5,12Z\"/>\n",
              "  </svg>\n",
              "    </button>\n",
              "    <script>\n",
              "      (() => {\n",
              "      const buttonEl =\n",
              "        document.querySelector('#id_652e31f8-99cf-4a9e-a3c9-02557868f647 button.colab-df-generate');\n",
              "      buttonEl.style.display =\n",
              "        google.colab.kernel.accessAllowed ? 'block' : 'none';\n",
              "\n",
              "      buttonEl.onclick = () => {\n",
              "        google.colab.notebook.generateWithVariable('df');\n",
              "      }\n",
              "      })();\n",
              "    </script>\n",
              "  </div>\n",
              "\n",
              "    </div>\n",
              "  </div>\n"
            ],
            "application/vnd.google.colaboratory.intrinsic+json": {
              "type": "dataframe",
              "variable_name": "df",
              "summary": "{\n  \"name\": \"df\",\n  \"rows\": 3,\n  \"fields\": [\n    {\n      \"column\": \"Title\",\n      \"properties\": {\n        \"dtype\": \"string\",\n        \"num_unique_values\": 3,\n        \"samples\": [\n          \"Operando o Sistema de Controle Clim\\u00e1tico\",\n          \"Tela Sens\\u00edvel ao Toque\",\n          \"Mudando de Marcha\"\n        ],\n        \"semantic_type\": \"\",\n        \"description\": \"\"\n      }\n    },\n    {\n      \"column\": \"Text\",\n      \"properties\": {\n        \"dtype\": \"string\",\n        \"num_unique_values\": 3,\n        \"samples\": [\n          \"Seu Googlecar possui um sistema de controle clim\\u00e1tico que permite ajustar a temperatura e o fluxo de ar no carro. Utilize os bot\\u00f5es localizados no console central para controlar o sistema:\\n\\n* **Temperatura:** Gire o bot\\u00e3o no sentido hor\\u00e1rio para aumentar a temperatura ou no sentido anti-hor\\u00e1rio para diminuir. \\n* **Fluxo de ar:** Gire o bot\\u00e3o para ajustar a quantidade de ar que circula no carro.\\n* **Velocidade do ventilador:** Gire o bot\\u00e3o no sentido hor\\u00e1rio para aumentar a velocidade do ventilador ou no sentido anti-hor\\u00e1rio para diminuir. \\n* **Modo:** Selecione o modo desejado (Frio ou Calor) para que o carro ajuste automaticamente a temperatura e o fluxo de ar para um n\\u00edvel confort\\u00e1vel.\\n\\n**Modos:**\\n\\n* **Frio:** O carro soprar\\u00e1 ar frio para dentro do carro.\\n* **Calor:** O carro soprar\\u00e1 ar quente para dentro do carro.\",\n          \"Seu Googlecar possui uma grande tela sens\\u00edvel ao toque que fornece acesso a uma variedade de recursos, incluindo navega\\u00e7\\u00e3o, entretenimento e controle de temperatura. Para usar a tela sens\\u00edvel ao toque, basta tocar no \\u00edcone desejado. Por exemplo, voc\\u00ea pode tocar no \\\\ \\u00cdcone \\\"Navega\\u00e7\\u00e3o\\\" para obter dire\\u00e7\\u00f5es at\\u00e9 seu destino ou toque no \\u00edcone \\\"M\\u00fasica\\\" para reproduzir suas m\\u00fasicas favoritas.\",\n          \"Seu Googlecar possui transmiss\\u00e3o autom\\u00e1tica. Para mudar de marcha, basta mover a alavanca de mudan\\u00e7a para a posi\\u00e7\\u00e3o desejada. \\n\\n* **Estacionar:** Esta posi\\u00e7\\u00e3o \\u00e9 usada quando voc\\u00ea est\\u00e1 estacionado. As rodas est\\u00e3o travadas e o carro n\\u00e3o pode se mover. \\n* **Marcha-atr\\u00e1s:** Esta posi\\u00e7\\u00e3o \\u00e9 usada para dar r\\u00e9. \\n* **D (Drive):** Esta posi\\u00e7\\u00e3o \\u00e9 usada para dirigir. \\n* **N (Neutro):** Esta posi\\u00e7\\u00e3o \\u00e9 usada quando voc\\u00ea est\\u00e1 parado em um sem\\u00e1foro ou no tr\\u00e2nsito. O carro n\\u00e3o est\\u00e1 engatado e n\\u00e3o se mover\\u00e1 a menos que voc\\u00ea pressione o pedal do acelerador. \\n* **Baixo (L):** Esta posi\\u00e7\\u00e3o \\u00e9 usada para dirigir em neve ou outras condi\\u00e7\\u00f5es escorregadias.\"\n        ],\n        \"semantic_type\": \"\",\n        \"description\": \"\"\n      }\n    },\n    {\n      \"column\": \"Embeddings\",\n      \"properties\": {\n        \"dtype\": \"object\",\n        \"semantic_type\": \"\",\n        \"description\": \"\"\n      }\n    }\n  ]\n}"
            }
          },
          "metadata": {},
          "execution_count": 280
        }
      ]
    },
    {
      "cell_type": "code",
      "source": [
        "#Consultando no documento com perguntas\n",
        "def find_fn(query):\n",
        "  query_embedding = genai.embed_content(model=model_embed_content,\n",
        "                                        content=query,\n",
        "                                        task_type=\"RETRIEVAL_QUERY\")\n",
        "\n",
        "  dot_products = np.dot(np.stack(df['Embeddings']), query_embedding[\"embedding\"]) #Armazenando a referência de cada um dos textos do dataframe e o valor que representa a distância para similaridade\n",
        "  idx = np.argmax(dot_products) #Buscando na lista o maior valor de similaridade\n",
        "  return df.iloc[idx]['Text'] #Retornando o texto do índice com maior valor de similaridade"
      ],
      "metadata": {
        "id": "ccr3J307fv46"
      },
      "execution_count": 281,
      "outputs": []
    },
    {
      "cell_type": "code",
      "source": [
        "#Fazendo consulta 1 no documento\n",
        "query1 = \"Como mudar de marcha no carro do Google?\"\n",
        "content1 = find_fn(query1)\n",
        "print(content1)"
      ],
      "metadata": {
        "colab": {
          "base_uri": "https://localhost:8080/",
          "height": 139
        },
        "id": "1aJR4C22iAd3",
        "outputId": "701913ab-8ebb-4b3b-8343-11eb2e9b4831"
      },
      "execution_count": 282,
      "outputs": [
        {
          "output_type": "stream",
          "name": "stdout",
          "text": [
            "Seu Googlecar possui transmissão automática. Para mudar de marcha, basta mover a alavanca de mudança para a posição desejada. \n",
            "\n",
            "* **Estacionar:** Esta posição é usada quando você está estacionado. As rodas estão travadas e o carro não pode se mover. \n",
            "* **Marcha-atrás:** Esta posição é usada para dar ré. \n",
            "* **D (Drive):** Esta posição é usada para dirigir. \n",
            "* **N (Neutro):** Esta posição é usada quando você está parado em um semáforo ou no trânsito. O carro não está engatado e não se moverá a menos que você pressione o pedal do acelerador. \n",
            "* **Baixo (L):** Esta posição é usada para dirigir em neve ou outras condições escorregadias.\n"
          ]
        }
      ]
    },
    {
      "cell_type": "code",
      "source": [
        "#Fazendo consulta 2 no documento: Pergunta 2\n",
        "query2 = \"O carro do Google possui tela sensível ao toque?\"\n",
        "content2 = find_fn(query2)\n",
        "print(content2)"
      ],
      "metadata": {
        "colab": {
          "base_uri": "https://localhost:8080/",
          "height": 54
        },
        "id": "_MdxJKfnmZiw",
        "outputId": "52d87ae9-387d-4ef4-bb3c-4cd64585a675"
      },
      "execution_count": 283,
      "outputs": [
        {
          "output_type": "stream",
          "name": "stdout",
          "text": [
            "Seu Googlecar possui uma grande tela sensível ao toque que fornece acesso a uma variedade de recursos, incluindo navegação, entretenimento e controle de temperatura. Para usar a tela sensível ao toque, basta tocar no ícone desejado. Por exemplo, você pode tocar no \\ Ícone \"Navegação\" para obter direções até seu destino ou toque no ícone \"Música\" para reproduzir suas músicas favoritas.\n"
          ]
        }
      ]
    },
    {
      "cell_type": "code",
      "source": [
        "#Fazendo consulta 3 no documento\n",
        "query3 = \"Como ajustar a temperatura no carro do Google?\"\n",
        "content3 = find_fn(query3)\n",
        "print(content3)"
      ],
      "metadata": {
        "colab": {
          "base_uri": "https://localhost:8080/",
          "height": 208
        },
        "id": "_ZRkLZslnU2o",
        "outputId": "aff2a0ac-4c4a-44ea-fe9a-647414fe41c5"
      },
      "execution_count": 284,
      "outputs": [
        {
          "output_type": "stream",
          "name": "stdout",
          "text": [
            "Seu Googlecar possui um sistema de controle climático que permite ajustar a temperatura e o fluxo de ar no carro. Utilize os botões localizados no console central para controlar o sistema:\n",
            "\n",
            "* **Temperatura:** Gire o botão no sentido horário para aumentar a temperatura ou no sentido anti-horário para diminuir. \n",
            "* **Fluxo de ar:** Gire o botão para ajustar a quantidade de ar que circula no carro.\n",
            "* **Velocidade do ventilador:** Gire o botão no sentido horário para aumentar a velocidade do ventilador ou no sentido anti-horário para diminuir. \n",
            "* **Modo:** Selecione o modo desejado (Frio ou Calor) para que o carro ajuste automaticamente a temperatura e o fluxo de ar para um nível confortável.\n",
            "\n",
            "**Modos:**\n",
            "\n",
            "* **Frio:** O carro soprará ar frio para dentro do carro.\n",
            "* **Calor:** O carro soprará ar quente para dentro do carro.\n"
          ]
        }
      ]
    },
    {
      "cell_type": "code",
      "source": [
        "#Fazendo consulta 4 no documento\n",
        "query4 = \"O conteúdo está 100% protegido de alucinações do modelo?\"\n",
        "content4 = find_fn(query4)\n",
        "print(content4)"
      ],
      "metadata": {
        "colab": {
          "base_uri": "https://localhost:8080/",
          "height": 54
        },
        "id": "yr0WXKwmovvL",
        "outputId": "9df30ec1-4b0b-4d16-b964-0d8022548786"
      },
      "execution_count": 285,
      "outputs": [
        {
          "output_type": "stream",
          "name": "stdout",
          "text": [
            "Seu Googlecar possui uma grande tela sensível ao toque que fornece acesso a uma variedade de recursos, incluindo navegação, entretenimento e controle de temperatura. Para usar a tela sensível ao toque, basta tocar no ícone desejado. Por exemplo, você pode tocar no \\ Ícone \"Navegação\" para obter direções até seu destino ou toque no ícone \"Música\" para reproduzir suas músicas favoritas.\n"
          ]
        }
      ]
    },
    {
      "cell_type": "code",
      "source": [
        "#Configurando modelo para geração de texto\n",
        "generation_config = {\n",
        "    \"candidate_count\": 1, #Define apenas uma resposta\n",
        "    \"temperature\": 1 #Define a aletoriedade das palavras do modelo\n",
        "}\n",
        "model_generate_content = genai.GenerativeModel(\n",
        "    model_name='gemini-1.0-pro',\n",
        "    generation_config=generation_config\n",
        ")"
      ],
      "metadata": {
        "id": "w2p9Zhc1sjy4"
      },
      "execution_count": 286,
      "outputs": []
    },
    {
      "cell_type": "code",
      "source": [
        "#Reescrevendo a resposta de forma mais criativas com o uso do Gemini para geração de texto: generateContent\n",
        "def response_fn(question, content):\n",
        "  prompt = f\"Considerando a pergunta: {question}. Reescreva o conteúdo de uma forma mais objetiva, sem adicionar informações que não façam parte do conteúdo disponível: {content}\"\n",
        "  response = model_generate_content.generate_content(prompt)\n",
        "  return response.text"
      ],
      "metadata": {
        "id": "bsmrVy0QuI-z"
      },
      "execution_count": 287,
      "outputs": []
    },
    {
      "cell_type": "code",
      "source": [
        "#Criando resposta criativa para consulta 1 no documento\n",
        "print(response_fn(query1, content1))"
      ],
      "metadata": {
        "colab": {
          "base_uri": "https://localhost:8080/",
          "height": 139
        },
        "id": "nKOqIKqlqlSk",
        "outputId": "fe8c1dfc-b99e-4db2-f22a-56f693fe818a"
      },
      "execution_count": 288,
      "outputs": [
        {
          "output_type": "stream",
          "name": "stdout",
          "text": [
            "Para mudar de marcha no carro do Google, use a alavanca de câmbio localizada perto do volante. As diferentes posições da alavanca e suas funções são:\n",
            "\n",
            "* Estacionar (P): Engata as rodas, impedindo o movimento do veículo.\n",
            "* Marcha-atrás (R): Envia energia para o motor para mover o veículo para trás.\n",
            "* Drive (D): Permite o movimento do veículo para frente.\n",
            "* Neutro (N): Desengata o motor do trem de força, permitindo que o veículo role livremente.\n",
            "* Baixo (L): Fornece mais força para situações como superfícies escorregadias ou cargas pesadas.\n"
          ]
        }
      ]
    },
    {
      "cell_type": "code",
      "source": [
        "#Criando resposta criativa para consulta 2 no documento\n",
        "print(response_fn(query2, content2))"
      ],
      "metadata": {
        "colab": {
          "base_uri": "https://localhost:8080/",
          "height": 34
        },
        "id": "zjRBdXI_shzj",
        "outputId": "329a8b15-1a8b-4c52-cf47-141268e2f231"
      },
      "execution_count": 289,
      "outputs": [
        {
          "output_type": "stream",
          "name": "stdout",
          "text": [
            "Sim, o carro do Google possui uma tela sensível ao toque.\n"
          ]
        }
      ]
    },
    {
      "cell_type": "code",
      "source": [
        "#Criando resposta criativa para consulta 3 no documento\n",
        "print(response_fn(query3, content3))"
      ],
      "metadata": {
        "colab": {
          "base_uri": "https://localhost:8080/",
          "height": 121
        },
        "id": "3Hn4LVKctIH0",
        "outputId": "a891919e-32b7-44ba-8034-f50137a0b616"
      },
      "execution_count": 290,
      "outputs": [
        {
          "output_type": "stream",
          "name": "stdout",
          "text": [
            "**Controle de Temperatura do Veículo:**\n",
            "\n",
            "* Gire o botão de temperatura para aumentar ou diminuir a temperatura.\n",
            "* Ajuste o botão de fluxo de ar para controlar a quantidade de ar que circula.\n",
            "* Ajuste o botão de velocidade do ventilador para controlar a velocidade do ar.\n",
            "* Selecione os modos \"Frio\" ou \"Calor\" para ajustar automaticamente a temperatura e o fluxo de ar para níveis confortáveis.\n"
          ]
        }
      ]
    },
    {
      "cell_type": "code",
      "source": [
        "#Criando resposta criativa para consulta 4 no documento\n",
        "print(response_fn(query4, content4))"
      ],
      "metadata": {
        "colab": {
          "base_uri": "https://localhost:8080/",
          "height": 34
        },
        "id": "PpAAeGjBtP2T",
        "outputId": "4a33ae8e-3dbb-4b23-b66e-5c52caa4639f"
      },
      "execution_count": 293,
      "outputs": [
        {
          "output_type": "stream",
          "name": "stdout",
          "text": [
            "O conteúdo fornecido não aborda alucinações do modelo. Portanto, não é possível avaliar se ele está 100% protegido contra elas.\n"
          ]
        }
      ]
    }
  ]
}
